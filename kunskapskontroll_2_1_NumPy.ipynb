{
 "cells": [
  {
   "cell_type": "markdown",
   "id": "dacf74e6",
   "metadata": {},
   "source": [
    "# NumPy"
   ]
  },
  {
   "cell_type": "markdown",
   "id": "01b2bf34",
   "metadata": {},
   "source": [
    "Read the links: https://numpy.org/doc/stable/user/quickstart.html  and https://numpy.org/doc/stable/user/basics.broadcasting.html  before solving the exercises. "
   ]
  },
  {
   "cell_type": "code",
   "execution_count": 77,
   "id": "1f79e4a6",
   "metadata": {},
   "outputs": [],
   "source": [
    "import numpy as np"
   ]
  },
  {
   "cell_type": "markdown",
   "id": "7dae6889",
   "metadata": {},
   "source": [
    "### Print out the dimension (number of axes), shape, size and the datatype of the matrix A."
   ]
  },
  {
   "cell_type": "code",
   "execution_count": 80,
   "id": "7b3678cd",
   "metadata": {},
   "outputs": [],
   "source": [
    "A = np.arange(1, 16).reshape(3,5)"
   ]
  },
  {
   "cell_type": "code",
   "execution_count": 82,
   "id": "31d39235",
   "metadata": {},
   "outputs": [
    {
     "name": "stdout",
     "output_type": "stream",
     "text": [
      "(3, 5)\n",
      "15\n",
      "int64\n",
      "2\n"
     ]
    }
   ],
   "source": [
    "print(A.shape)\n",
    "print(A.size)\n",
    "print(A.dtype)\n",
    "print(A.ndim)"
   ]
  },
  {
   "cell_type": "markdown",
   "id": "e56d2a96",
   "metadata": {},
   "source": [
    "### Do the following computations on the matrices B and C: \n",
    "* Elementwise subtraction. \n",
    "* Elementwise multiplication. \n",
    "* Matrix multiplication (by default you should use the @ operator)."
   ]
  },
  {
   "cell_type": "code",
   "execution_count": 85,
   "id": "a7053fbb",
   "metadata": {},
   "outputs": [
    {
     "name": "stdout",
     "output_type": "stream",
     "text": [
      "[[1 2 3]\n",
      " [4 5 6]\n",
      " [7 8 9]]\n",
      "\n",
      "[[2. 2. 2.]\n",
      " [2. 2. 2.]\n",
      " [2. 2. 2.]]\n"
     ]
    }
   ],
   "source": [
    "B = np.arange(1, 10).reshape(3, 3)\n",
    "C = np.ones((3, 3))*2\n",
    "\n",
    "print(B)\n",
    "print()\n",
    "print(C)"
   ]
  },
  {
   "cell_type": "code",
   "execution_count": 87,
   "id": "3cd794ae",
   "metadata": {},
   "outputs": [
    {
     "data": {
      "text/plain": [
       "array([[-1.,  0.,  1.],\n",
       "       [ 2.,  3.,  4.],\n",
       "       [ 5.,  6.,  7.]])"
      ]
     },
     "execution_count": 87,
     "metadata": {},
     "output_type": "execute_result"
    }
   ],
   "source": [
    "B - C"
   ]
  },
  {
   "cell_type": "code",
   "execution_count": 89,
   "id": "9ef017e0-0236-4422-9617-00bc0bd0136c",
   "metadata": {},
   "outputs": [
    {
     "data": {
      "text/plain": [
       "array([[ 2.,  4.,  6.],\n",
       "       [ 8., 10., 12.],\n",
       "       [14., 16., 18.]])"
      ]
     },
     "execution_count": 89,
     "metadata": {},
     "output_type": "execute_result"
    }
   ],
   "source": [
    "B * C"
   ]
  },
  {
   "cell_type": "code",
   "execution_count": 91,
   "id": "f176c7d6-e4eb-4066-a351-1cb74ed04c5b",
   "metadata": {},
   "outputs": [
    {
     "data": {
      "text/plain": [
       "array([[12., 12., 12.],\n",
       "       [30., 30., 30.],\n",
       "       [48., 48., 48.]])"
      ]
     },
     "execution_count": 91,
     "metadata": {},
     "output_type": "execute_result"
    }
   ],
   "source": [
    "B @ C"
   ]
  },
  {
   "cell_type": "markdown",
   "id": "96030d53",
   "metadata": {},
   "source": [
    "### Do the following calculations on the matrix:\n",
    "* Exponentiate each number elementwise (use the np.exp function).\n",
    "\n",
    "* Calculate the minimum value in the whole matrix. \n",
    "* Calculcate the minimum value in each row. \n",
    "* Calculcate the minimum value in each column. \n",
    "\n",
    "\n",
    "* Find the index value for the minimum value in the whole matrix (hint: use np.argmin).\n",
    "* Find the index value for the minimum value in each row (hint: use np.argmin).\n",
    "\n",
    "\n",
    "* Calculate the sum for all elements.\n",
    "* Calculate the mean for each column. \n",
    "* Calculate the median for each column. "
   ]
  },
  {
   "cell_type": "code",
   "execution_count": 94,
   "id": "f8a9166b",
   "metadata": {},
   "outputs": [
    {
     "name": "stdout",
     "output_type": "stream",
     "text": [
      "[[1 2 3]\n",
      " [4 5 6]\n",
      " [7 8 9]]\n"
     ]
    }
   ],
   "source": [
    "B = np.arange(1, 10).reshape(3, 3)\n",
    "print(B)"
   ]
  },
  {
   "cell_type": "code",
   "execution_count": 96,
   "id": "f03f24f7",
   "metadata": {},
   "outputs": [
    {
     "data": {
      "text/plain": [
       "array([[2.71828183e+00, 7.38905610e+00, 2.00855369e+01],\n",
       "       [5.45981500e+01, 1.48413159e+02, 4.03428793e+02],\n",
       "       [1.09663316e+03, 2.98095799e+03, 8.10308393e+03]])"
      ]
     },
     "execution_count": 96,
     "metadata": {},
     "output_type": "execute_result"
    }
   ],
   "source": [
    "np.exp(B)"
   ]
  },
  {
   "cell_type": "code",
   "execution_count": 98,
   "id": "b9bed592-9ef0-42e9-8783-62ca87c12b2a",
   "metadata": {},
   "outputs": [
    {
     "data": {
      "text/plain": [
       "1"
      ]
     },
     "execution_count": 98,
     "metadata": {},
     "output_type": "execute_result"
    }
   ],
   "source": [
    "np.min(B)"
   ]
  },
  {
   "cell_type": "code",
   "execution_count": 100,
   "id": "e10373ac-d709-4376-9d4e-12c8aef7a8b2",
   "metadata": {},
   "outputs": [
    {
     "data": {
      "text/plain": [
       "array([1, 4, 7])"
      ]
     },
     "execution_count": 100,
     "metadata": {},
     "output_type": "execute_result"
    }
   ],
   "source": [
    "np.min(B, axis=1)"
   ]
  },
  {
   "cell_type": "code",
   "execution_count": 102,
   "id": "f0e19ddd-611b-402d-960a-7d17893014ed",
   "metadata": {},
   "outputs": [
    {
     "data": {
      "text/plain": [
       "array([1, 2, 3])"
      ]
     },
     "execution_count": 102,
     "metadata": {},
     "output_type": "execute_result"
    }
   ],
   "source": [
    "np.min(B, axis=0)"
   ]
  },
  {
   "cell_type": "code",
   "execution_count": 104,
   "id": "b093a314-ca83-4a38-89a5-92ab362483be",
   "metadata": {},
   "outputs": [
    {
     "data": {
      "text/plain": [
       "0"
      ]
     },
     "execution_count": 104,
     "metadata": {},
     "output_type": "execute_result"
    }
   ],
   "source": [
    "np.argmin(B)"
   ]
  },
  {
   "cell_type": "code",
   "execution_count": 106,
   "id": "7775d8f8-2b34-4a4e-850e-e5d66f9b4b41",
   "metadata": {},
   "outputs": [
    {
     "data": {
      "text/plain": [
       "array([0, 0, 0])"
      ]
     },
     "execution_count": 106,
     "metadata": {},
     "output_type": "execute_result"
    }
   ],
   "source": [
    "np.argmin(B, axis=0)"
   ]
  },
  {
   "cell_type": "code",
   "execution_count": 108,
   "id": "aa24c8a2-bd53-46db-a40b-99e56acba8de",
   "metadata": {},
   "outputs": [
    {
     "data": {
      "text/plain": [
       "45"
      ]
     },
     "execution_count": 108,
     "metadata": {},
     "output_type": "execute_result"
    }
   ],
   "source": [
    "np.sum(B)"
   ]
  },
  {
   "cell_type": "code",
   "execution_count": 110,
   "id": "334a1ca9-3320-45d3-8e86-05bcce07073d",
   "metadata": {},
   "outputs": [
    {
     "data": {
      "text/plain": [
       "array([4., 5., 6.])"
      ]
     },
     "execution_count": 110,
     "metadata": {},
     "output_type": "execute_result"
    }
   ],
   "source": [
    "np.mean(B, axis=0)"
   ]
  },
  {
   "cell_type": "code",
   "execution_count": 112,
   "id": "670c289a-59c3-4ad3-a0d8-ed57cd833dc6",
   "metadata": {},
   "outputs": [
    {
     "data": {
      "text/plain": [
       "array([4., 5., 6.])"
      ]
     },
     "execution_count": 112,
     "metadata": {},
     "output_type": "execute_result"
    }
   ],
   "source": [
    "np.median(B, axis=0)"
   ]
  },
  {
   "cell_type": "markdown",
   "id": "541eb7ba",
   "metadata": {},
   "source": [
    "### What does it mean when you provide fewer indices than axes when slicing? See example below."
   ]
  },
  {
   "cell_type": "code",
   "execution_count": 115,
   "id": "9c8abf56",
   "metadata": {},
   "outputs": [
    {
     "name": "stdout",
     "output_type": "stream",
     "text": [
      "[[ 1  2  3  4  5]\n",
      " [ 6  7  8  9 10]\n",
      " [11 12 13 14 15]]\n"
     ]
    }
   ],
   "source": [
    "print(A)"
   ]
  },
  {
   "cell_type": "code",
   "execution_count": 117,
   "id": "69415f7b",
   "metadata": {},
   "outputs": [
    {
     "data": {
      "text/plain": [
       "array([ 6,  7,  8,  9, 10])"
      ]
     },
     "execution_count": 117,
     "metadata": {},
     "output_type": "execute_result"
    }
   ],
   "source": [
    "A[1]"
   ]
  },
  {
   "cell_type": "markdown",
   "id": "6c53541b",
   "metadata": {},
   "source": [
    "**Answer:**"
   ]
  },
  {
   "cell_type": "code",
   "execution_count": 120,
   "id": "de01e120",
   "metadata": {},
   "outputs": [],
   "source": [
    "# Att ge färre axlar = Numpy förstår det som att du vill välja alla element längs axlarna som inte har specifierats "
   ]
  },
  {
   "cell_type": "markdown",
   "id": "6652d0c9",
   "metadata": {},
   "source": [
    "### Iterating over multidimensional arrays is done with respect to the first axis, so in the example below we iterate trough the rows. If you would like to iterate through the array *elementwise*, how would you do that?"
   ]
  },
  {
   "cell_type": "code",
   "execution_count": 123,
   "id": "9459864f",
   "metadata": {},
   "outputs": [
    {
     "data": {
      "text/plain": [
       "array([[ 1,  2,  3,  4,  5],\n",
       "       [ 6,  7,  8,  9, 10],\n",
       "       [11, 12, 13, 14, 15]])"
      ]
     },
     "execution_count": 123,
     "metadata": {},
     "output_type": "execute_result"
    }
   ],
   "source": [
    "A"
   ]
  },
  {
   "cell_type": "code",
   "execution_count": 125,
   "id": "a671bb5a",
   "metadata": {},
   "outputs": [
    {
     "name": "stdout",
     "output_type": "stream",
     "text": [
      "[1 2 3 4 5]\n",
      "[ 6  7  8  9 10]\n",
      "[11 12 13 14 15]\n"
     ]
    }
   ],
   "source": [
    "for i in A:\n",
    "    print(i)"
   ]
  },
  {
   "cell_type": "code",
   "execution_count": 127,
   "id": "f4e443a0",
   "metadata": {},
   "outputs": [],
   "source": [
    "# Genom att anitngen använda np.nditer() eller flatten()"
   ]
  },
  {
   "cell_type": "code",
   "execution_count": 129,
   "id": "92d6f372-3fff-4d4b-9bd9-d1529886b298",
   "metadata": {},
   "outputs": [
    {
     "name": "stdout",
     "output_type": "stream",
     "text": [
      "1\n",
      "2\n",
      "3\n",
      "4\n",
      "5\n",
      "6\n",
      "7\n",
      "8\n",
      "9\n",
      "10\n",
      "11\n",
      "12\n",
      "13\n",
      "14\n",
      "15\n"
     ]
    }
   ],
   "source": [
    "for element in np.nditer(A):\n",
    "    print(element)"
   ]
  },
  {
   "cell_type": "code",
   "execution_count": 131,
   "id": "58e12ca2-e3b3-4651-8def-fce14ea5aa1c",
   "metadata": {},
   "outputs": [
    {
     "name": "stdout",
     "output_type": "stream",
     "text": [
      "1\n",
      "2\n",
      "3\n",
      "4\n",
      "5\n",
      "6\n",
      "7\n",
      "8\n",
      "9\n",
      "10\n",
      "11\n",
      "12\n",
      "13\n",
      "14\n",
      "15\n"
     ]
    }
   ],
   "source": [
    "for element in A.flatten():\n",
    "    print(element)"
   ]
  },
  {
   "cell_type": "code",
   "execution_count": 133,
   "id": "05c325e9-711d-4f8a-a541-17d5541f0f5d",
   "metadata": {},
   "outputs": [],
   "source": [
    "# Vilken man ska använda när beror på om man har en större eller mindre datauppsättningar. \n",
    "# Är arrayen inte så stor så hade flatten() passat bättre då det är en enkel lösning för att iterera alla element.\n",
    "# Är det lite större och mer avancerat så passar np.nditer() bättre då den har bland annat bättre kontroll över iterartionen genom flera axlar. "
   ]
  },
  {
   "cell_type": "markdown",
   "id": "608a2583",
   "metadata": {},
   "source": [
    "### Explain what the code below does. More specifically, b has three axes - what does this mean? "
   ]
  },
  {
   "cell_type": "code",
   "execution_count": 215,
   "id": "f8f9b26f",
   "metadata": {},
   "outputs": [
    {
     "name": "stdout",
     "output_type": "stream",
     "text": [
      "[ 0  1  2  3  4  5  6  7  8  9 10 11 12 13 14 15 16 17 18 19 20 21 22 23\n",
      " 24 25 26 27 28 29]\n",
      "[[[ 0  1  2  3  4]\n",
      "  [ 5  6  7  8  9]\n",
      "  [10 11 12 13 14]]\n",
      "\n",
      " [[15 16 17 18 19]\n",
      "  [20 21 22 23 24]\n",
      "  [25 26 27 28 29]]]\n"
     ]
    }
   ],
   "source": [
    "a = np.arange(30) \n",
    "b = a.reshape((2, 3, -1))\n",
    "print(a)\n",
    "print(b)"
   ]
  },
  {
   "cell_type": "code",
   "execution_count": 138,
   "id": "eed38bbb-dd20-4d23-837f-679aa3d3a067",
   "metadata": {},
   "outputs": [],
   "source": [
    "# a = np.arrange(30) innebär att den skapar en dimension och genererar sekvens med 30 element från 0 till 29\n",
    "# b = a.reshape((2, 3, -1)) innebär att den skapar 3 dimensioner från arrayen a.\n",
    "# reshape((2, 3, -1)) = 2 är block, 3 är rader och -1 innebär att Numpy ska själv räkna ut sista dimensionen så att när vi multiplicerar de vi får 30\n",
    "# sista dimensionen blir då 5. (2 * 3 * 5) blir 30 \n",
    "# ALLTSÅ 2 block, varje block har 3 rader och varje rad har 5 element."
   ]
  },
  {
   "cell_type": "markdown",
   "id": "421c9607-819a-401d-949a-97424436fe29",
   "metadata": {},
   "source": [
    "# For the exercises below, read the document *\"matematik_yh_antonio_vektorer_matriser_utdrag\"*\n",
    "# Solutions to the exercises and recorded videos can be found here: https://github.com/AntonioPrgomet/matematik_foer_yh\n",
    "\n",
    "# If you find the exercises below very hard, do not worry. Try your best, that will be enough. "
   ]
  },
  {
   "cell_type": "markdown",
   "id": "ab5933d5",
   "metadata": {},
   "source": [
    "### Broadcasting\n",
    "**Read the following link about broadcasting: https://numpy.org/doc/stable/user/basics.broadcasting.html#basics-broadcasting**"
   ]
  },
  {
   "cell_type": "markdown",
   "id": "039805ba",
   "metadata": {},
   "source": [
    "# Remark on Broadcasting when doing Linear Algebra calculations in Python. "
   ]
  },
  {
   "cell_type": "markdown",
   "id": "c4bcc147",
   "metadata": {},
   "source": [
    "### From the mathematical rules of matrix addition, the operation below (m1 + m2) does not make sense. The reason is that matrix addition requires two matrices of the same size. In Python however, it works due to broadcasting rules in NumPy. So you must be careful when doing Linear Algebra calculations in Python since they do not follow the \"mathematical rules\". This can however easily be handled by doing some simple programming, for example validating that two matrices have the same shape is easy if you for instance want to add two matrices. "
   ]
  },
  {
   "cell_type": "code",
   "execution_count": 144,
   "id": "1fd46778",
   "metadata": {},
   "outputs": [
    {
     "name": "stdout",
     "output_type": "stream",
     "text": [
      "[[2 3]\n",
      " [4 5]]\n"
     ]
    }
   ],
   "source": [
    "m1 = np.array([[1, 2], [3, 4]])\n",
    "m2 = np.array([1, 1])\n",
    "print(m1 + m2)"
   ]
  },
  {
   "cell_type": "markdown",
   "id": "047d6576",
   "metadata": {},
   "source": [
    "### The example below would also not be allowed if following the \"mathematical rules\" in Linear Algebra. But it works due to broadcasting in NumPy. "
   ]
  },
  {
   "cell_type": "code",
   "execution_count": 147,
   "id": "5e6ef2e4",
   "metadata": {},
   "outputs": [
    {
     "name": "stdout",
     "output_type": "stream",
     "text": [
      "[2 3 4]\n"
     ]
    }
   ],
   "source": [
    "v1 = np.array([1, 2, 3])\n",
    "print(v1 + 1)"
   ]
  },
  {
   "cell_type": "code",
   "execution_count": 149,
   "id": "e2cbae26",
   "metadata": {},
   "outputs": [
    {
     "name": "stdout",
     "output_type": "stream",
     "text": [
      "[[1 2]\n",
      " [3 4]]\n",
      "[2 2]\n"
     ]
    }
   ],
   "source": [
    "A = np.arange(1, 5).reshape(2,2)\n",
    "print(A)\n",
    "\n",
    "b = np.array([2, 2])\n",
    "print(b)"
   ]
  },
  {
   "cell_type": "markdown",
   "id": "722fd5cd",
   "metadata": {},
   "source": [
    "# Vector- and matrix algebra Exercises"
   ]
  },
  {
   "cell_type": "markdown",
   "id": "b63a3081-d976-4d9f-bfd0-a63917e79f7d",
   "metadata": {},
   "source": [
    "**Now you are going to create a function that can be reused every time you add or multiply matrices. The function is created so that we do the addition and multiplication according to the rules of vector- and matrix algebra.**\n",
    "\n",
    "**Create a function \"add_mult_matrices\" that takes two matrices as input arguments (validate that the input are of the type numpy.ndarray by using the isinstance function), a third argument that is either 'add' or 'multiply' that specifies if you want to add or multiply the matrices (validate that the third argument is either 'add' or 'multiply'). When doing matrix addition, validate that the matrices have the same size. When doing matrix multiplication, validate that the sizes conform (i.e. number of columns in the first matrix is equal to the number of rows in the second matrix).**"
   ]
  },
  {
   "cell_type": "code",
   "execution_count": 175,
   "id": "33b52738-79ca-4a45-a8d6-b683e7e07bc0",
   "metadata": {},
   "outputs": [],
   "source": [
    "def add_mult_matrices(matrix1, matrix2, operation):\n",
    "    if not isinstance(matrix1, np.ndarray) or not isinstance(matrix2, np.ndarray):\n",
    "        raise TypeError(\"Båda inmatade matriserna ska vara av typen numpy.ndarray\")\n",
    "    if operation not in ['add', 'multiply']:\n",
    "        raise ValueError(\"Operation måste vara antingen 'add' eller 'multiply'\")\n",
    "    if operation == 'add':\n",
    "        if matrix1.shape != matrix2.shape:\n",
    "            raise ValueError(\"Matriserna måste ha samma storlek för addition\")\n",
    "        return matrix1 + matrix2\n",
    "    elif operation == 'multiply':\n",
    "        if matrix1.shape[1] != matrix2.shape[0]:\n",
    "            raise ValueError(\"För att multiplikationen ska vara möjlig måste antalet kolumner i första matrisen vara detsamma som antalet rader i andra matrisen.\")\n",
    "        return np.dot(matrix1, matrix2)"
   ]
  },
  {
   "cell_type": "code",
   "execution_count": 183,
   "id": "0592a0c6-0441-4aa4-9ea2-58d0b5b29e80",
   "metadata": {},
   "outputs": [
    {
     "name": "stdout",
     "output_type": "stream",
     "text": [
      "Addition: [[ 6  8]\n",
      " [10 12]]\n",
      "Multiplication [[19 22]\n",
      " [43 50]]\n"
     ]
    }
   ],
   "source": [
    "matrix1 = np.array([[1, 2], [3, 4]])\n",
    "matrix2 = np.array([[5, 6], [7, 8]])\n",
    "\n",
    "add_result = add_mult_matrices(matrix1, matrix2, 'add')\n",
    "mult_result = add_mult_matrices(matrix1, matrix2, 'multiply')\n",
    "\n",
    "print(\"Addition:\", add_result)\n",
    "print(\"Multiplication\", mult_result)"
   ]
  },
  {
   "cell_type": "markdown",
   "id": "8dad82d0-2359-4dff-8f5b-a57d3e34103c",
   "metadata": {},
   "source": [
    "### Solve all the exercises in chapter 10.1 in the book \"Matematik för yrkeshögskolan\" by using Python. "
   ]
  },
  {
   "cell_type": "code",
   "execution_count": 197,
   "id": "89df88af-3668-4d98-a0a4-e6d92eea0f89",
   "metadata": {},
   "outputs": [
    {
     "name": "stdout",
     "output_type": "stream",
     "text": [
      "A): 2\n",
      "B): [20 15]\n",
      "C): [12  9]\n",
      "D): [32 24]\n",
      "E): [32 24]\n",
      "F): [12  9]\n",
      "G): (2, 1)\n",
      "H): False\n",
      "I): 5.0\n"
     ]
    }
   ],
   "source": [
    "# 10.1.1\n",
    "x = np.array([4, 3])\n",
    "\n",
    "# A)\n",
    "dimension_x = x.shape[0]\n",
    "print(\"A):\", dimension_x)\n",
    "\n",
    "# B)\n",
    "result_b = 5 * x\n",
    "print(\"B):\", result_b)\n",
    "\n",
    "# C)\n",
    "result_c = 3 * x\n",
    "print(\"C):\", result_c)\n",
    "\n",
    "# D)\n",
    "result_d = 5 * x + 3 * x\n",
    "print(\"D):\", result_d)\n",
    "\n",
    "# E)\n",
    "result_e = 8 * x\n",
    "print(\"E):\", result_e)\n",
    "\n",
    "# F)\n",
    "result_f = 4 * x - x\n",
    "print(\"F):\", result_f)\n",
    "\n",
    "# G)\n",
    "x_transposed = x.reshape(-1, 1)\n",
    "print(\"G):\", x_transposed.shape)\n",
    "\n",
    "# H) \n",
    "try: \n",
    "    result_h = x + x_transposed\n",
    "    x_defined = True\n",
    "except ValueError:\n",
    "    x_defined = False\n",
    "if x.shape != x_transposed.shape:\n",
    "    x_defined = False\n",
    "print(\"H):\", x_defined)\n",
    "\n",
    "# I)\n",
    "norm_x = np.linalg.norm(x)\n",
    "print(\"I):\", norm_x)"
   ]
  },
  {
   "cell_type": "code",
   "execution_count": 201,
   "id": "1eeaa092-9f68-41aa-94d3-698c32bf87ae",
   "metadata": {},
   "outputs": [
    {
     "name": "stdout",
     "output_type": "stream",
     "text": [
      "A): 4\n",
      "B): [ 6 14  0 22]\n",
      "C): [21 49  0 77]\n",
      "D): [ 6 14  0 22]\n",
      "E): (4, 1)\n",
      "F): 13.379088160259652\n"
     ]
    }
   ],
   "source": [
    "# 10.1.2\n",
    "v = np.array([3, 7, 0, 11])\n",
    "\n",
    "# A) \n",
    "result_a = v.shape[0]\n",
    "print(\"A):\", result_a)\n",
    "\n",
    "# B)\n",
    "result_b = 2 * v\n",
    "print(\"B):\", result_b)\n",
    "\n",
    "# C)\n",
    "result_c = 5 * v + 2 * v\n",
    "print(\"C):\", result_c)\n",
    "\n",
    "# D)\n",
    "result_d = 4 * v - 2 * v\n",
    "print(\"D):\", result_d)\n",
    "\n",
    "# E)\n",
    "result_e = v.reshape(-1, 1)\n",
    "dimension_transposed_v = result_e.shape\n",
    "print(\"E):\", dimension_transposed_v)\n",
    "\n",
    "# F)\n",
    "norm_v = np.linalg.norm(v)\n",
    "print(\"F):\", norm_v)"
   ]
  },
  {
   "cell_type": "code",
   "execution_count": 207,
   "id": "cb35181f-94c6-4632-982b-eb896a8802b6",
   "metadata": {},
   "outputs": [
    {
     "name": "stdout",
     "output_type": "stream",
     "text": [
      "A): 7.14142842854285\n",
      "B): 4.47213595499958\n"
     ]
    }
   ],
   "source": [
    "# 10.1.3\n",
    "v1 = np.array([4, 3, 1, 5])\n",
    "v2 = np.array([2, 3, 1, 1])\n",
    "\n",
    "# A)\n",
    "norm_v1 = np.linalg.norm(v1)\n",
    "print(\"A):\", norm_v1)\n",
    "\n",
    "# B)\n",
    "norm_v1_minus_v2 = np.linalg.norm(v1 - v2)\n",
    "print(\"B):\", norm_v1_minus_v2)"
   ]
  },
  {
   "cell_type": "markdown",
   "id": "75c98984-1f88-4df1-b850-d2466de444a5",
   "metadata": {},
   "source": [
    "### Solve all the exercises, except 10.2.4, in chapter 10.2 in the book \"Matematik för yrkeshögskolan\" by using Python. "
   ]
  },
  {
   "cell_type": "code",
   "execution_count": 225,
   "id": "65371610-16e1-48b2-b7fb-65e49002608a",
   "metadata": {},
   "outputs": [
    {
     "name": "stdout",
     "output_type": "stream",
     "text": [
      "A): [[ 4.   0.2  2. ]\n",
      " [ 2.  -2.   2. ]]\n",
      "B): B - 2A är inte definierat\n",
      "C): 3C - 2E är inte definierat\n",
      "D): 2D - 3C är inte definierat\n",
      "E): [[ 9 12]\n",
      " [12  9]]\n",
      "F): 2C^T - 2D^T är inte definierat\n",
      "A): [[-2.   3. ]\n",
      " [-1.9  3. ]\n",
      " [ 0.   3. ]]\n",
      "H): [[ 3.2  2.1]\n",
      " [ 0.  -1. ]]\n",
      "I): [[11 10]\n",
      " [10 11]\n",
      " [-5 -2]]\n",
      "J): CB är inte definierat\n",
      "K): [[ 1.  2.]\n",
      " [ 2.  1.]\n",
      " [ 1. -2.]]\n",
      "L): AB^T är inte definierat\n"
     ]
    }
   ],
   "source": [
    "# 10.2.1\n",
    "\n",
    "A = np.array([[2, .1, 1],[1, -1, 1]])\n",
    "B = np.array([[4, -2], [2, -4], [1, -2]])\n",
    "C = np.array([[1, 2], [2, 1], [1, -2]])\n",
    "D = np.array([[3, 4], [4, 3]])\n",
    "E = np.array ([[1], [2]])\n",
    "I = np.eye(2)\n",
    "\n",
    "# A)\n",
    "print(\"A):\", 2 * A)\n",
    "\n",
    "# B)\n",
    "try:\n",
    "    result_b = B - 2 * A\n",
    "    print(\"B):\", result_b)\n",
    "except ValueError:\n",
    "    print(\"B): B - 2A är inte definierat\")\n",
    "\n",
    "# C)\n",
    "try:\n",
    "    result_c = 3 * C - 2 * E\n",
    "    print(\"C):\", result_c)\n",
    "except ValueError:\n",
    "    print(\"C): 3C - 2E är inte definierat\")\n",
    "\n",
    "# D)\n",
    "try:\n",
    "    result_d = 2 * D - 3 * C\n",
    "    print(\"D):\", result_d)\n",
    "except ValueError:\n",
    "    print(\"D): 2D - 3C är inte definierat\")\n",
    "\n",
    "# E)\n",
    "d_transposed = D.T\n",
    "try:\n",
    "    result_e = d_transposed + 2 * D\n",
    "    print(\"E):\", result_e)\n",
    "except ValueError:\n",
    "    print(\"E): D^T + 2D är inte definierat\")\n",
    "\n",
    "# F)\n",
    "c_transposed = C.T\n",
    "d_transposed = D.T\n",
    "try:\n",
    "    result_f = 2 * c_transposed - 2 * d_transposed\n",
    "    print(\"F):\", result_f)\n",
    "except ValueError:\n",
    "    print(\"F): 2C^T - 2D^T är inte definierat\")\n",
    "\n",
    "# G)\n",
    "a_transposed = A.T\n",
    "try:\n",
    "    result_g = a_transposed - B\n",
    "    print(\"A):\", result_g)\n",
    "except ValueError:\n",
    "    print(\"G): A^T - B är inte definierat\")\n",
    "\n",
    "\n",
    "# H)\n",
    "try: \n",
    "    result_h = np.dot(A, C)\n",
    "    print(\"H):\", result_h)\n",
    "except ValueError:\n",
    "    print(\"H): AC är inte definierat\")\n",
    "\n",
    "# I)\n",
    "try:\n",
    "    result_i = np.dot(C, D)\n",
    "    print(\"I):\", result_i)\n",
    "except ValueError:\n",
    "    print(\"I): CD är inte definierat\")\n",
    "\n",
    "# J)\n",
    "try:\n",
    "    result_j = np.dot(C, B)\n",
    "    print(\"J):\", result_j)\n",
    "except ValueError:\n",
    "    print(\"J): CB är inte definierat\")\n",
    "\n",
    "# K)\n",
    "try:\n",
    "    result_k = np.dot(C, I)\n",
    "    print(\"K):\", result_k)\n",
    "except ValueError:\n",
    "    print(\"K): CI är inte definierat\")\n",
    "\n",
    "# L)\n",
    "b_transposed = B.T\n",
    "try:\n",
    "    result_l = np.dot(A, b_transposed)\n",
    "    print(\"L):\", result_l)\n",
    "except ValueError:\n",
    "    print(\"L): AB^T är inte definierat\")\n"
   ]
  },
  {
   "cell_type": "code",
   "execution_count": 213,
   "id": "a7bcbd69-a7b4-4169-89a5-e78bc3038b3b",
   "metadata": {},
   "outputs": [
    {
     "name": "stdout",
     "output_type": "stream",
     "text": [
      "[[29 26]\n",
      " [26 42]]\n"
     ]
    }
   ],
   "source": [
    "# 10.2.2\n",
    "A = np.array([[2, 3, 4], [5, 4, 1]])\n",
    "a_transposed = A.T\n",
    "result = np.dot(A, a_transposed)\n",
    "print(result)"
   ]
  },
  {
   "cell_type": "code",
   "execution_count": 217,
   "id": "f8cc7545-8579-4f7f-a9c8-9d8f13e25574",
   "metadata": {},
   "outputs": [
    {
     "name": "stdout",
     "output_type": "stream",
     "text": [
      "[[ 5  5]\n",
      " [ 8 14]]\n",
      "[[ 8  8]\n",
      " [ 8 14]]\n",
      "False\n",
      "True\n"
     ]
    }
   ],
   "source": [
    "# 10.2.3\n",
    "A = np.array([[2, 1], [2, 4]])\n",
    "B = np.array([[2, 1], [1, 3]])\n",
    "C = np.array([[4, 3], [0, 2]])\n",
    "\n",
    "AB = np.dot(A, B)\n",
    "AC = np.dot(A, C)\n",
    "\n",
    "ab_equal_ac = np.array_equal(AB, AC)\n",
    "b_not_equal_c = not np.array_equal(B, C)\n",
    "\n",
    "print(AB)\n",
    "print(AC)\n",
    "print(ab_equal_ac)\n",
    "print(b_not_equal_c)"
   ]
  },
  {
   "cell_type": "markdown",
   "id": "6a4a524f",
   "metadata": {},
   "source": [
    "### Copies and Views\n",
    "Read the following link: https://numpy.org/doc/stable/user/basics.copies.html"
   ]
  },
  {
   "cell_type": "markdown",
   "id": "6cbbeaf7",
   "metadata": {},
   "source": [
    "**Basic indexing creates a view, How can you check if v1 and v2 is a view or copy? If you change the last element in v2 to 123, will the last element in v1 be changed? Why?**"
   ]
  },
  {
   "cell_type": "code",
   "execution_count": 16,
   "id": "5b9ef4df",
   "metadata": {},
   "outputs": [
    {
     "name": "stdout",
     "output_type": "stream",
     "text": [
      "[0 1 2 3]\n",
      "[2 3]\n"
     ]
    }
   ],
   "source": [
    "v1 = np.arange(4)\n",
    "v2 = v1[-2:]\n",
    "print(v1)\n",
    "print(v2)"
   ]
  },
  {
   "cell_type": "code",
   "execution_count": 18,
   "id": "d2440489",
   "metadata": {},
   "outputs": [
    {
     "name": "stdout",
     "output_type": "stream",
     "text": [
      "None\n",
      "[0 1 2 3]\n"
     ]
    }
   ],
   "source": [
    "# The base attribute of a view returns the original array while it returns None for a copy.\n",
    "print(v1.base)\n",
    "print(v2.base)"
   ]
  },
  {
   "cell_type": "code",
   "execution_count": 22,
   "id": "c8752807",
   "metadata": {},
   "outputs": [
    {
     "name": "stdout",
     "output_type": "stream",
     "text": [
      "[  0   1   2 123]\n",
      "[  2 123]\n"
     ]
    }
   ],
   "source": [
    "# The last element in v1 will be changed aswell since v2 is a view, meaning they share the same data buffer.\n",
    "v2[-1] = 123\n",
    "print(v1)\n",
    "print(v2)"
   ]
  },
  {
   "cell_type": "code",
   "execution_count": null,
   "id": "3dd68221",
   "metadata": {},
   "outputs": [],
   "source": [
    "# Jag kan kontrollera om det är en view eller copy genom attributet .base\n",
    "# Om det är none så är det en copy, om det är en array så är det en view\n",
    "# Ja, v1 kommer att ändras för att de delar samma data"
   ]
  }
 ],
 "metadata": {
  "kernelspec": {
   "display_name": "Python 3 (ipykernel)",
   "language": "python",
   "name": "python3"
  },
  "language_info": {
   "codemirror_mode": {
    "name": "ipython",
    "version": 3
   },
   "file_extension": ".py",
   "mimetype": "text/x-python",
   "name": "python",
   "nbconvert_exporter": "python",
   "pygments_lexer": "ipython3",
   "version": "3.12.7"
  }
 },
 "nbformat": 4,
 "nbformat_minor": 5
}
